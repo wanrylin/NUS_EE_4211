{
 "cells": [
  {
   "cell_type": "code",
   "execution_count": 1,
   "id": "7b9278bd",
   "metadata": {},
   "outputs": [
    {
     "name": "stdout",
     "output_type": "stream",
     "text": [
      "Filtered result: Th qck brwn fx jmps vr th lzy dg\n"
     ]
    }
   ],
   "source": [
    "def remove_vowels(sentence):\n",
    "    return \"\".join([l for l in sentence if str.lower(l) not in \"aeiou\"])\n",
    "\n",
    "sentence = \"The quick brown fox jumps over the lazy dog\"\n",
    "print(\"Filtered result: \" + remove_vowels(sentence))"
   ]
  },
  {
   "cell_type": "code",
   "execution_count": null,
   "id": "2a13162c",
   "metadata": {},
   "outputs": [],
   "source": []
  }
 ],
 "metadata": {
  "kernelspec": {
   "display_name": "Python 3 (ipykernel)",
   "language": "python",
   "name": "python3"
  },
  "language_info": {
   "codemirror_mode": {
    "name": "ipython",
    "version": 3
   },
   "file_extension": ".py",
   "mimetype": "text/x-python",
   "name": "python",
   "nbconvert_exporter": "python",
   "pygments_lexer": "ipython3",
   "version": "3.9.12"
  }
 },
 "nbformat": 4,
 "nbformat_minor": 5
}
